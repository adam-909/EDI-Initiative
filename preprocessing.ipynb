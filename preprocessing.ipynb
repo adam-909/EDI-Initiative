{
 "cells": [
  {
   "cell_type": "code",
   "execution_count": null,
   "metadata": {
    "vscode": {
     "languageId": "latex"
    }
   },
   "outputs": [],
   "source": [
    "-- Resizing images to a fixed size (128 x 128) --"
   ]
  },
  {
   "cell_type": "code",
   "execution_count": 2,
   "metadata": {},
   "outputs": [
    {
     "name": "stdout",
     "output_type": "stream",
     "text": [
      "Train Folder: C:\\Users\\adamf\\Desktop\\EWB\\Partitioned Data\\train\n",
      "Validation Folder: C:\\Users\\adamf\\Desktop\\EWB\\Partitioned Data\\validation\n",
      "Test Folder: C:\\Users\\adamf\\Desktop\\EWB\\Partitioned Data\\test\n"
     ]
    }
   ],
   "source": [
    "import os\n",
    "\n",
    "# Paths to the partitioned folders\n",
    "base_folder = r\"C:\\Users\\adamf\\Desktop\\EWB\\Partitioned Data\"\n",
    "train_folder = os.path.join(base_folder, \"train\")\n",
    "validation_folder = os.path.join(base_folder, \"validation\")\n",
    "test_folder = os.path.join(base_folder, \"test\")\n",
    "\n",
    "# Verify the paths\n",
    "print(f\"Train Folder: {train_folder}\")\n",
    "print(f\"Validation Folder: {validation_folder}\")\n",
    "print(f\"Test Folder: {test_folder}\")\n",
    "\n",
    "# Check if the folders exist\n",
    "assert os.path.exists(train_folder), \"Train folder does not exist!\"\n",
    "assert os.path.exists(validation_folder), \"Validation folder does not exist!\"\n",
    "assert os.path.exists(test_folder), \"Test folder does not exist!\"\n"
   ]
  },
  {
   "cell_type": "code",
   "execution_count": 5,
   "metadata": {},
   "outputs": [],
   "source": [
    "from PIL import Image\n",
    "\n",
    "def resize_images(input_folder, output_folder, size=(128, 128)):\n",
    "    os.makedirs(output_folder, exist_ok=True)\n",
    "    for img_name in os.listdir(input_folder):\n",
    "        img_path = os.path.join(input_folder, img_name)\n",
    "        img = Image.open(img_path)\n",
    "        img = img.resize(size)\n",
    "        img.save(os.path.join(output_folder, img_name))\n",
    "\n",
    "resize_images(train_folder, r\"C:\\Users\\adamf\\Desktop\\EWB\\Preprocessed\\train\")\n",
    "#resize_images(validation_folder, r\"C:\\Users\\adamf\\Desktop\\EWB\\Preprocessed\\validation\")\n",
    "#resize_images(test_folder, r\"C:\\Users\\adamf\\Desktop\\EWB\\Preprocessed\\test\")\n"
   ]
  }
 ],
 "metadata": {
  "kernelspec": {
   "display_name": "Python 3",
   "language": "python",
   "name": "python3"
  },
  "language_info": {
   "codemirror_mode": {
    "name": "ipython",
    "version": 3
   },
   "file_extension": ".py",
   "mimetype": "text/x-python",
   "name": "python",
   "nbconvert_exporter": "python",
   "pygments_lexer": "ipython3",
   "version": "3.13.1"
  }
 },
 "nbformat": 4,
 "nbformat_minor": 2
}
