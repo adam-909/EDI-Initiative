{
 "cells": [
  {
   "cell_type": "code",
   "execution_count": 5,
   "metadata": {},
   "outputs": [
    {
     "name": "stdout",
     "output_type": "stream",
     "text": [
      "partition\n",
      "0    162770\n",
      "2     19962\n",
      "1     19867\n",
      "Name: count, dtype: int64\n"
     ]
    }
   ],
   "source": [
    "import pandas as pd\n",
    "\n",
    "# Load the partition file\n",
    "partition_file = r\"C:\\Users\\adamf\\Desktop\\EWB\\Raw Data\\list_eval_partition.csv\"\n",
    "partitions = pd.read_csv(partition_file)\n",
    "\n",
    "# Count images in each partition\n",
    "print(partitions[\"partition\"].value_counts())\n"
   ]
  },
  {
   "cell_type": "code",
   "execution_count": 6,
   "metadata": {},
   "outputs": [
    {
     "name": "stdout",
     "output_type": "stream",
     "text": [
      "          image_id  partition\n",
      "56353   056354.jpg          0\n",
      "130367  130368.jpg          0\n",
      "98886   098887.jpg          0\n",
      "39402   039403.jpg          0\n",
      "80964   080965.jpg          0\n",
      "Training images sampled: 20000\n"
     ]
    }
   ],
   "source": [
    "# Filter for training images (partition == 0) and sample 20,000\n",
    "training_partitions = partitions[partitions[\"partition\"] == 0]\n",
    "training_subset = training_partitions.sample(n=20000, random_state=42)\n",
    "\n",
    "# Verify\n",
    "print(training_subset.head())\n",
    "print(f\"Training images sampled: {len(training_subset)}\")\n"
   ]
  },
  {
   "cell_type": "code",
   "execution_count": 7,
   "metadata": {},
   "outputs": [
    {
     "name": "stdout",
     "output_type": "stream",
     "text": [
      "          image_id  partition\n",
      "171444  171445.jpg          1\n",
      "176301  176302.jpg          1\n",
      "166355  166356.jpg          1\n",
      "169233  169234.jpg          1\n",
      "165315  165316.jpg          1\n",
      "Validation images sampled: 2500\n"
     ]
    }
   ],
   "source": [
    "# Filter for validation images (partition == 1) and sample 2,500\n",
    "validation_partitions = partitions[partitions[\"partition\"] == 1]\n",
    "validation_subset = validation_partitions.sample(n=2500, random_state=42)\n",
    "\n",
    "# Verify\n",
    "print(validation_subset.head())\n",
    "print(f\"Validation images sampled: {len(validation_subset)}\")\n"
   ]
  },
  {
   "cell_type": "code",
   "execution_count": null,
   "metadata": {},
   "outputs": [],
   "source": [
    "# Filter for test images (partition == 2) and sample 2,500\n",
    "test_partitions = partitions[partitions[\"partition\"] == 2]\n",
    "test_subset = test_partitions.sample(n=2500, random_state=42)\n",
    "\n",
    "# Verify\n",
    "print(test_subset.head())\n",
    "print(f\"Test images sampled: {len(test_subset)}\")\n"
   ]
  },
  {
   "cell_type": "code",
   "execution_count": 8,
   "metadata": {},
   "outputs": [],
   "source": [
    "import os\n",
    "\n",
    "# Define paths for the zip file and output folder\n",
    "zip_path = r\"C:\\Users\\adamf\\Desktop\\EWB\\Raw Data\\archive.zip\"\n",
    "output_folder = r\"C:\\Users\\adamf\\Desktop\\EWB\\Partitioned Data\"\n",
    "\n",
    "# Define subfolder paths\n",
    "train_folder = os.path.join(output_folder, \"train\")\n",
    "validation_folder = os.path.join(output_folder, \"validation\")\n",
    "test_folder = os.path.join(output_folder, \"test\")\n",
    "\n",
    "# Create subfolders if they don't exist\n",
    "os.makedirs(train_folder, exist_ok=True)\n",
    "os.makedirs(validation_folder, exist_ok=True)\n",
    "os.makedirs(test_folder, exist_ok=True)\n"
   ]
  },
  {
   "cell_type": "code",
   "execution_count": 9,
   "metadata": {},
   "outputs": [],
   "source": [
    "import zipfile\n",
    "\n",
    "def extract_images(subset, destination_folder):\n",
    "    with zipfile.ZipFile(zip_path, 'r') as zip_ref:\n",
    "        for image_id in subset[\"image_id\"]:\n",
    "            # Path inside the zip file\n",
    "            zip_internal_path = f\"img_align_celeba/img_align_celeba/{image_id}\"\n",
    "            try:\n",
    "                # Read and save the file\n",
    "                file_data = zip_ref.read(zip_internal_path)\n",
    "                with open(os.path.join(destination_folder, image_id), \"wb\") as output_file:\n",
    "                    output_file.write(file_data)\n",
    "            except KeyError:\n",
    "                print(f\"Image {image_id} not found in the zip file!\")\n"
   ]
  },
  {
   "cell_type": "code",
   "execution_count": 10,
   "metadata": {},
   "outputs": [
    {
     "name": "stdout",
     "output_type": "stream",
     "text": [
      "Training images extracted to: C:\\Users\\adamf\\Desktop\\EWB\\Partitioned Data\\train\n"
     ]
    }
   ],
   "source": [
    "extract_images(training_subset, train_folder)\n",
    "print(f\"Training images extracted to: {train_folder}\")\n"
   ]
  },
  {
   "cell_type": "code",
   "execution_count": null,
   "metadata": {},
   "outputs": [],
   "source": [
    "extract_images(training_subset, train_folder)\n",
    "print(f\"Training images extracted to: {train_folder}\")\n"
   ]
  },
  {
   "cell_type": "code",
   "execution_count": null,
   "metadata": {},
   "outputs": [],
   "source": [
    "extract_images(test_subset, test_folder)\n",
    "print(f\"Test images extracted to: {test_folder}\")\n"
   ]
  },
  {
   "cell_type": "code",
   "execution_count": 11,
   "metadata": {},
   "outputs": [
    {
     "name": "stdout",
     "output_type": "stream",
     "text": [
      "Training images: 22520\n",
      "Validation images: 2500\n",
      "Test images: 2500\n"
     ]
    }
   ],
   "source": [
    "# Count images in each folder\n",
    "print(f\"Training images: {len(os.listdir(train_folder))}\")\n",
    "print(f\"Validation images: {len(os.listdir(validation_folder))}\")\n",
    "print(f\"Test images: {len(os.listdir(test_folder))}\")\n"
   ]
  }
 ],
 "metadata": {
  "kernelspec": {
   "display_name": "Python 3",
   "language": "python",
   "name": "python3"
  },
  "language_info": {
   "codemirror_mode": {
    "name": "ipython",
    "version": 3
   },
   "file_extension": ".py",
   "mimetype": "text/x-python",
   "name": "python",
   "nbconvert_exporter": "python",
   "pygments_lexer": "ipython3",
   "version": "3.13.1"
  }
 },
 "nbformat": 4,
 "nbformat_minor": 2
}
